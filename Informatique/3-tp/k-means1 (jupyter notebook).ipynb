{
 "cells": [
  {
   "cell_type": "code",
   "execution_count": 125,
   "id": "30c38243-90bd-4ba8-915b-49233bd27a2a",
   "metadata": {},
   "outputs": [],
   "source": [
    "import numpy as np\n",
    "import matplotlib.pyplot as plt\n",
    "import numpy.random as rd\n",
    "import pandas as pd"
   ]
  },
  {
   "cell_type": "code",
   "execution_count": 131,
   "id": "a4c43595-387e-418c-902d-c4c61ad403ec",
   "metadata": {},
   "outputs": [
    {
     "name": "stdout",
     "output_type": "stream",
     "text": [
      "[[0.05117332966962418, 0.05427538497317885], [0.19416258121844154, 0.8782699093283957], [0.04369017937608599, 0.5917911791614647], [0.4970861446272705, 0.8482736076692207], [0.014236252897285473, 0.5214315232080392], [0.1388244044397483, 0.7251550009058794], [0.758455841895224, 0.6730526987448379], [0.9128479558226997, 0.4419072857296067]]\n"
     ]
    }
   ],
   "source": [
    "n_points = 8\n",
    "lst = []\n",
    "\n",
    "for i in range(n_points):\n",
    "    lst += [[rd.random(), rd.random()]]\n",
    "\n",
    "print(lst)"
   ]
  },
  {
   "cell_type": "code",
   "execution_count": 132,
   "id": "f2a542d1-28bc-4436-98b8-15279b2988d1",
   "metadata": {},
   "outputs": [
    {
     "name": "stdout",
     "output_type": "stream",
     "text": [
      "[[0.04093084097957678, 0.444030406144724], [0.23796016808981846, 0.8402973992652002], [0.721775707609925, 0.2597470664134406], [0.23825881489342426, 0.1988965985881681], [0.1919556481594482, 0.3416677341600436], [0.07330387990634357, 0.35511546377616554], [0.283795576302289, 0.9327366846344055], [0.5665248959780605, 0.20292877204669812]]\n"
     ]
    }
   ],
   "source": [
    "lst = []\n",
    "for i in range(n_points):\n",
    "    lst.append([rd.random(), rd.random()])\n",
    "\n",
    "print(lst)"
   ]
  },
  {
   "cell_type": "code",
   "execution_count": 133,
   "id": "839ad23c-432c-4927-acab-739ff3bc5c50",
   "metadata": {},
   "outputs": [
    {
     "name": "stdout",
     "output_type": "stream",
     "text": [
      "[[0.563468905503238, 0.6989664898150101], [0.27707904247539294, 0.8333304511102548], [0.7652642247962835, 0.1056599864308495], [0.21473986653880384, 0.1877782922510881], [0.47476146990607315, 0.5051435218549314], [0.7698325879461081, 0.122853930493938], [0.7110277438978478, 0.1578708182641706], [0.3201492605573649, 0.1771052441725105]]\n"
     ]
    }
   ],
   "source": [
    "lst = [[rd.random(), rd.random()] for _ in range(n_points)]\n",
    "print(lst)"
   ]
  },
  {
   "cell_type": "code",
   "execution_count": 146,
   "id": "27a11e30-03db-4dd5-878b-52476f856e57",
   "metadata": {},
   "outputs": [
    {
     "data": {
      "text/plain": [
       "array([[0.65357686, 0.29585372],\n",
       "       [0.35892651, 0.60804507],\n",
       "       [0.32294058, 0.51923661],\n",
       "       [0.69014017, 0.03535412],\n",
       "       [0.21901103, 0.92490107],\n",
       "       [0.14745622, 0.18265965],\n",
       "       [0.69319837, 0.74351403],\n",
       "       [0.29050995, 0.61160838]])"
      ]
     },
     "execution_count": 146,
     "metadata": {},
     "output_type": "execute_result"
    }
   ],
   "source": [
    "rd.rand(n_points, 2)"
   ]
  },
  {
   "cell_type": "code",
   "execution_count": 144,
   "id": "c6acee1a-63dc-4865-b495-78c450223adb",
   "metadata": {},
   "outputs": [],
   "source": [
    "n_points = 8\n",
    "tab_points = np.zeros([n_points, 2])\n",
    "for i in range(n_points):\n",
    "    tab_points[i] = rd.rand(2)"
   ]
  },
  {
   "cell_type": "code",
   "execution_count": 152,
   "id": "4f8c0556-c4d1-4089-9bee-099934291889",
   "metadata": {},
   "outputs": [],
   "source": [
    "lst1 = [1, 2]\n",
    "lst2 = [3, 4]"
   ]
  },
  {
   "cell_type": "code",
   "execution_count": 153,
   "id": "9158efd0-6c06-4d7c-84e5-a34f3d5bac0c",
   "metadata": {},
   "outputs": [],
   "source": [
    "lst1.extend(lst2)"
   ]
  },
  {
   "cell_type": "code",
   "execution_count": 154,
   "id": "d9e0504a-dc02-414c-8fa3-1e84a0d753e6",
   "metadata": {},
   "outputs": [
    {
     "data": {
      "text/plain": [
       "[1, 2, 3, 4]"
      ]
     },
     "execution_count": 154,
     "metadata": {},
     "output_type": "execute_result"
    }
   ],
   "source": [
    "lst1"
   ]
  },
  {
   "cell_type": "code",
   "execution_count": 155,
   "id": "7113d75a-88e5-42d3-9eea-bb9f1ec528d8",
   "metadata": {},
   "outputs": [],
   "source": [
    "lst1 = [1, 2]\n",
    "lst2 = [3, 4]\n",
    "t1 = np.array(lst1)\n",
    "t2 = np.array(lst2)"
   ]
  },
  {
   "cell_type": "code",
   "execution_count": 160,
   "id": "b6049bac-255c-4f7f-9bcc-81343de61b48",
   "metadata": {},
   "outputs": [
    {
     "data": {
      "text/plain": [
       "2.8284271247461903"
      ]
     },
     "execution_count": 160,
     "metadata": {},
     "output_type": "execute_result"
    }
   ],
   "source": [
    "np.sqrt(np.sum( (t1 - t2)**2 ))"
   ]
  },
  {
   "cell_type": "code",
   "execution_count": 163,
   "id": "65e216ff-6035-4b06-93f9-73ab1c290757",
   "metadata": {},
   "outputs": [],
   "source": [
    "\n",
    "\n",
    "\n"
   ]
  },
  {
   "cell_type": "code",
   "execution_count": 165,
   "id": "9d6b9163-d89b-4ed9-8177-17fd062f3c09",
   "metadata": {},
   "outputs": [],
   "source": [
    "t = np.array([[0, 0], [2, 1]])"
   ]
  },
  {
   "cell_type": "code",
   "execution_count": 171,
   "id": "4d77bf28-a0ae-4e84-bf10-114c9be1b945",
   "metadata": {},
   "outputs": [],
   "source": [
    "p = np.array([1.1, 4])"
   ]
  },
  {
   "cell_type": "code",
   "execution_count": 172,
   "id": "7fb35fce-0138-49ef-b598-dc8b3d0f417b",
   "metadata": {},
   "outputs": [
    {
     "data": {
      "text/plain": [
       "1"
      ]
     },
     "execution_count": 172,
     "metadata": {},
     "output_type": "execute_result"
    }
   ],
   "source": [
    "nearest(t, p)"
   ]
  },
  {
   "cell_type": "markdown",
   "id": "940d3f78-b808-4bec-bd3b-11862483aefb",
   "metadata": {},
   "source": [
    "# mes idées\n",
    "- fonction de génération des points du nuage\n",
    "- fonction d'affichage des points\n",
    "- fonction de calcul du barycentre d'un nuage de points\n",
    "- structures de données : tab des barycentres, tableau des classes"
   ]
  },
  {
   "cell_type": "code",
   "execution_count": 229,
   "id": "577c6548-a1c0-4670-87d3-fb5ad4103151",
   "metadata": {},
   "outputs": [],
   "source": [
    "def dist(p1, p2):\n",
    "#    return np.sqrt(np.sum( (p1 - p2)**2 ))\n",
    "\n",
    "def nearest(tab, p):\n",
    "    d = float(\"inf\")\n",
    "    i = 0\n",
    "    for j in range(len(tab)):\n",
    "        d_j = dist(tab[j], p)\n",
    "        if d_j < d:\n",
    "            d = d_j\n",
    "            i = j\n",
    "    return i\n",
    "\n",
    "# fonction d'affichage des points\n",
    "def disp(tab):\n",
    "    '''\n",
    "    entrée : tableau tab = [ [x_0, y_0], [x_1, y_1], ... ]\n",
    "    sortie : affichage des points associés aux couples\n",
    "    '''\n",
    "    n_points = len(tab)\n",
    "    t_x = tab[:,0]\n",
    "    t_y = tab[:,1]\n",
    "    plt.plot(t_x, t_y, \"o\")\n",
    "\n",
    "# calcul du barycentre d'un nuage de points\n",
    "def center(tab):\n",
    "    n = len(tab)\n",
    "    x_c = 0.0\n",
    "    y_c = 0.0\n",
    "    for i in range(n):\n",
    "        x_c += tab[i][0]\n",
    "        y_c += tab[i][1]\n",
    "    return np.array([x_c, y_c]) / n\n",
    "\n",
    "def center(tab):\n",
    "    return sum(tab) / len(tab)\n",
    "\n",
    "def shuffle(tab):\n",
    "    n = len(tab)\n",
    "    for i in range(1, n):\n",
    "        j = rd.randint(0,i)\n",
    "        tab[i], tab[j] = tab[j], tab[i]\n",
    "\n",
    "def mu_init(tab_points, k):\n",
    "    n_points = len(tab_points)\n",
    "    tab_idx = [i for i in range(n_points)]\n",
    "    shuffle(tab_idx)\n",
    "    tab_mu = [tab_points[tab_idx[i]] for i in range(k)]\n",
    "    return np.array(tab_mu)\n",
    "\n",
    "def make_class(tab_points, tab_mu):\n",
    "    n_points = len(tab_points)\n",
    "    k = len(tab_mu)\n",
    "    tab_class = np.zeros(n_points, dtype=int)\n",
    "    for i in range(n_points):\n",
    "        tab_class[i] = nearest(tab_mu, tab_points[i])\n",
    "    return tab_class\n",
    "\n",
    "\n",
    "# nombre de points\n",
    "n_points = 8\n",
    "tab_points = rd.rand(n_points, 2)\n",
    "#print(tab_points)\n",
    "\n",
    "# nombre de classes choisi\n",
    "k = 3\n",
    "tab_mu = mu_init(tab_points, k)\n",
    "tab_class = make_class(tab_points, tab_mu)\n",
    "#print(tab_mu)\n",
    "print(tab_class)"
   ]
  },
  {
   "cell_type": "code",
   "execution_count": 231,
   "id": "be872213-f527-496e-adb4-78b84bdf1311",
   "metadata": {},
   "outputs": [
    {
     "name": "stdout",
     "output_type": "stream",
     "text": [
      "[1 1 2 0 2 2 2 2]\n"
     ]
    }
   ],
   "source": [
    "# nombre de points\n",
    "n_points = 8\n",
    "tab_points = rd.rand(n_points, 2)\n",
    "#print(tab_points)\n",
    "\n",
    "# nombre de classes choisi\n",
    "k = 3\n",
    "tab_mu = mu_init(tab_points, k)\n",
    "tab_class = make_class(tab_points, tab_mu)\n",
    "#print(tab_mu)\n",
    "print(tab_class)"
   ]
  },
  {
   "cell_type": "code",
   "execution_count": 202,
   "id": "5503f961-4e2e-4e37-9074-db3370a16de5",
   "metadata": {},
   "outputs": [
    {
     "data": {
      "text/plain": [
       "array([0.44101176, 0.67089259])"
      ]
     },
     "execution_count": 202,
     "metadata": {},
     "output_type": "execute_result"
    }
   ],
   "source": [
    "\n",
    "t = rd.rand(8,2)"
   ]
  },
  {
   "cell_type": "code",
   "execution_count": 188,
   "id": "6333c458-cbb0-4157-8d34-6f1897e27228",
   "metadata": {},
   "outputs": [],
   "source": [
    "t = rd.rand(8,2)"
   ]
  },
  {
   "cell_type": "code",
   "execution_count": 203,
   "id": "54240576-59c2-47b9-9831-dba5d39cc23a",
   "metadata": {},
   "outputs": [
    {
     "name": "stdout",
     "output_type": "stream",
     "text": [
      "[[0.66873191 0.7388889 ]\n",
      " [0.56388698 0.91021674]\n",
      " [0.07513143 0.9483904 ]\n",
      " [0.35533273 0.16444072]\n",
      " [0.72068818 0.74597683]\n",
      " [0.17628513 0.77426883]\n",
      " [0.72051977 0.52972023]\n",
      " [0.24751795 0.55523811]]\n"
     ]
    }
   ],
   "source": [
    "print(t)"
   ]
  },
  {
   "cell_type": "code",
   "execution_count": 205,
   "id": "7836717d-9665-4ff6-bea5-a2bea2840b70",
   "metadata": {},
   "outputs": [
    {
     "data": {
      "text/plain": [
       "array([0.44101176, 0.67089259])"
      ]
     },
     "execution_count": 205,
     "metadata": {},
     "output_type": "execute_result"
    }
   ],
   "source": [
    "sum(t) / len(tab)"
   ]
  },
  {
   "cell_type": "code",
   "execution_count": null,
   "id": "520979eb-f9d0-4a4b-b1e9-c8f12ff60735",
   "metadata": {},
   "outputs": [],
   "source": []
  }
 ],
 "metadata": {
  "kernelspec": {
   "display_name": "Python 3 (ipykernel)",
   "language": "python",
   "name": "python3"
  },
  "language_info": {
   "codemirror_mode": {
    "name": "ipython",
    "version": 3
   },
   "file_extension": ".py",
   "mimetype": "text/x-python",
   "name": "python",
   "nbconvert_exporter": "python",
   "pygments_lexer": "ipython3",
   "version": "3.11.6"
  }
 },
 "nbformat": 4,
 "nbformat_minor": 5
}
